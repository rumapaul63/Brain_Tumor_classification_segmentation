{
 "cells": [
  {
   "cell_type": "code",
   "execution_count": 2,
   "id": "225e4f21",
   "metadata": {},
   "outputs": [],
   "source": [
    "import pandas as pd\n",
    "import numpy as np\n",
    "import os\n",
    "import tensorflow as tf\n",
    "import keras\n",
    "import matplotlib.pyplot as plt\n",
    "from tensorflow.keras.layers import Dense, GlobalAveragePooling2D\n",
    "from tensorflow.keras.applications.vgg16 import VGG16\n",
    "from tensorflow.keras.preprocessing import image\n",
    "from tensorflow.keras.applications.vgg16 import preprocess_input\n",
    "from tensorflow.keras.preprocessing.image import ImageDataGenerator\n",
    "from tensorflow.keras.models import Model\n",
    "from tensorflow.keras.optimizers import Adam\n"
   ]
  },
  {
   "cell_type": "code",
   "execution_count": 3,
   "id": "47057a31",
   "metadata": {},
   "outputs": [],
   "source": [
    "image_size = [224,224]\n",
    "data_path = 'Detection'"
   ]
  },
  {
   "cell_type": "code",
   "execution_count": 4,
   "id": "42f3d974",
   "metadata": {},
   "outputs": [],
   "source": [
    "vgg = VGG16(input_shape= image_size+[3],weights='imagenet',include_top=False)"
   ]
  },
  {
   "cell_type": "code",
   "execution_count": 5,
   "id": "aa43e07d",
   "metadata": {},
   "outputs": [
    {
     "data": {
      "text/plain": [
       "<KerasTensor: shape=(None, 7, 7, 512) dtype=float32 (created by layer 'block5_pool')>"
      ]
     },
     "execution_count": 5,
     "metadata": {},
     "output_type": "execute_result"
    }
   ],
   "source": [
    "vgg.output"
   ]
  },
  {
   "cell_type": "code",
   "execution_count": 6,
   "id": "d0a2d1e6",
   "metadata": {},
   "outputs": [],
   "source": [
    "x = vgg.output\n",
    "x = GlobalAveragePooling2D()(x)"
   ]
  },
  {
   "cell_type": "code",
   "execution_count": 7,
   "id": "4409faae",
   "metadata": {},
   "outputs": [],
   "source": [
    "x = Dense(1024,activation='relu')(x)\n",
    "x = Dense(1024,activation='relu')(x)\n",
    "x = Dense(512, activation='relu')(x)"
   ]
  },
  {
   "cell_type": "code",
   "execution_count": 8,
   "id": "d914b854",
   "metadata": {},
   "outputs": [],
   "source": [
    "preds = Dense(2,activation='softmax')(x)"
   ]
  },
  {
   "cell_type": "code",
   "execution_count": 9,
   "id": "6ad813f5",
   "metadata": {},
   "outputs": [],
   "source": [
    "model = Model(inputs = vgg.input,outputs=preds)"
   ]
  },
  {
   "cell_type": "code",
   "execution_count": 10,
   "id": "dda49101",
   "metadata": {},
   "outputs": [
    {
     "name": "stdout",
     "output_type": "stream",
     "text": [
      "Model: \"model\"\n",
      "_________________________________________________________________\n",
      " Layer (type)                Output Shape              Param #   \n",
      "=================================================================\n",
      " input_1 (InputLayer)        [(None, 224, 224, 3)]     0         \n",
      "                                                                 \n",
      " block1_conv1 (Conv2D)       (None, 224, 224, 64)      1792      \n",
      "                                                                 \n",
      " block1_conv2 (Conv2D)       (None, 224, 224, 64)      36928     \n",
      "                                                                 \n",
      " block1_pool (MaxPooling2D)  (None, 112, 112, 64)      0         \n",
      "                                                                 \n",
      " block2_conv1 (Conv2D)       (None, 112, 112, 128)     73856     \n",
      "                                                                 \n",
      " block2_conv2 (Conv2D)       (None, 112, 112, 128)     147584    \n",
      "                                                                 \n",
      " block2_pool (MaxPooling2D)  (None, 56, 56, 128)       0         \n",
      "                                                                 \n",
      " block3_conv1 (Conv2D)       (None, 56, 56, 256)       295168    \n",
      "                                                                 \n",
      " block3_conv2 (Conv2D)       (None, 56, 56, 256)       590080    \n",
      "                                                                 \n",
      " block3_conv3 (Conv2D)       (None, 56, 56, 256)       590080    \n",
      "                                                                 \n",
      " block3_pool (MaxPooling2D)  (None, 28, 28, 256)       0         \n",
      "                                                                 \n",
      " block4_conv1 (Conv2D)       (None, 28, 28, 512)       1180160   \n",
      "                                                                 \n",
      " block4_conv2 (Conv2D)       (None, 28, 28, 512)       2359808   \n",
      "                                                                 \n",
      " block4_conv3 (Conv2D)       (None, 28, 28, 512)       2359808   \n",
      "                                                                 \n",
      " block4_pool (MaxPooling2D)  (None, 14, 14, 512)       0         \n",
      "                                                                 \n",
      " block5_conv1 (Conv2D)       (None, 14, 14, 512)       2359808   \n",
      "                                                                 \n",
      " block5_conv2 (Conv2D)       (None, 14, 14, 512)       2359808   \n",
      "                                                                 \n",
      " block5_conv3 (Conv2D)       (None, 14, 14, 512)       2359808   \n",
      "                                                                 \n",
      " block5_pool (MaxPooling2D)  (None, 7, 7, 512)         0         \n",
      "                                                                 \n",
      " global_average_pooling2d (G  (None, 512)              0         \n",
      " lobalAveragePooling2D)                                          \n",
      "                                                                 \n",
      " dense (Dense)               (None, 1024)              525312    \n",
      "                                                                 \n",
      " dense_1 (Dense)             (None, 1024)              1049600   \n",
      "                                                                 \n",
      " dense_2 (Dense)             (None, 512)               524800    \n",
      "                                                                 \n",
      " dense_3 (Dense)             (None, 2)                 1026      \n",
      "                                                                 \n",
      "=================================================================\n",
      "Total params: 16,815,426\n",
      "Trainable params: 16,815,426\n",
      "Non-trainable params: 0\n",
      "_________________________________________________________________\n"
     ]
    }
   ],
   "source": [
    "model.summary()"
   ]
  },
  {
   "cell_type": "code",
   "execution_count": 11,
   "id": "5beb54de",
   "metadata": {},
   "outputs": [],
   "source": [
    "for layer in vgg.layers:\n",
    "    layer.trainable = False"
   ]
  },
  {
   "cell_type": "code",
   "execution_count": 12,
   "id": "46c85040",
   "metadata": {},
   "outputs": [
    {
     "name": "stdout",
     "output_type": "stream",
     "text": [
      "Found 3264 images belonging to 2 classes.\n"
     ]
    }
   ],
   "source": [
    "train_datagen=ImageDataGenerator(preprocessing_function=preprocess_input) #included in our dependencies\n",
    "\n",
    "train_generator=train_datagen.flow_from_directory('C:/Users/ANANNYA/Desktop/Data/', # this is where you specify the path to the main data folder\n",
    "                                                 target_size=(224,224),\n",
    "                                                 color_mode='rgb',\n",
    "                                                 batch_size=32,\n",
    "                                                 class_mode='categorical',\n",
    "                                                 shuffle=True)"
   ]
  },
  {
   "cell_type": "code",
   "execution_count": 13,
   "id": "ba6ff480",
   "metadata": {},
   "outputs": [],
   "source": [
    "model.compile(optimizer='Adam',\n",
    "              loss='categorical_crossentropy',\n",
    "              metrics=['accuracy'])"
   ]
  },
  {
   "cell_type": "code",
   "execution_count": 14,
   "id": "5f3ef705",
   "metadata": {},
   "outputs": [
    {
     "name": "stdout",
     "output_type": "stream",
     "text": [
      "3264\n",
      "32\n",
      "102\n"
     ]
    }
   ],
   "source": [
    "print(train_generator.n)\n",
    "print(train_generator.batch_size)\n",
    "print(3264//32)"
   ]
  },
  {
   "cell_type": "code",
   "execution_count": 15,
   "id": "c94019db",
   "metadata": {},
   "outputs": [
    {
     "name": "stderr",
     "output_type": "stream",
     "text": [
      "C:\\Users\\ANANNYA\\AppData\\Local\\Temp\\ipykernel_12772\\1856219906.py:2: UserWarning: `Model.fit_generator` is deprecated and will be removed in a future version. Please use `Model.fit`, which supports generators.\n",
      "  r = model.fit_generator(generator=train_generator,\n"
     ]
    },
    {
     "name": "stdout",
     "output_type": "stream",
     "text": [
      "Epoch 1/5\n",
      "102/102 [==============================] - 720s 7s/step - loss: 0.6118 - accuracy: 0.8572\n",
      "Epoch 2/5\n",
      "102/102 [==============================] - 726s 7s/step - loss: 0.2427 - accuracy: 0.8873\n",
      "Epoch 3/5\n",
      "102/102 [==============================] - 693s 7s/step - loss: 0.2194 - accuracy: 0.8925\n",
      "Epoch 4/5\n",
      "102/102 [==============================] - 686s 7s/step - loss: 0.1991 - accuracy: 0.8983\n",
      "Epoch 5/5\n",
      "102/102 [==============================] - 648s 6s/step - loss: 0.2029 - accuracy: 0.8961\n"
     ]
    }
   ],
   "source": [
    "step_size_train=train_generator.n//train_generator.batch_size\n",
    "r = model.fit_generator(generator=train_generator,\n",
    "                   steps_per_epoch=step_size_train,\n",
    "                   epochs=5)"
   ]
  },
  {
   "cell_type": "code",
   "execution_count": null,
   "id": "6579b105",
   "metadata": {},
   "outputs": [],
   "source": [
    "# plot the loss\n",
    "plt.plot(r.history['loss'], label='train loss')\n",
    "# plt.plot(r.history['val_loss'], label='val loss')\n",
    "plt.legend()\n",
    "plt.show()\n",
    "plt.savefig('LossVal_loss')"
   ]
  },
  {
   "cell_type": "code",
   "execution_count": null,
   "id": "6a980e35",
   "metadata": {},
   "outputs": [],
   "source": [
    "import tensorflow as tf\n",
    "from tensorflow.keras.preprocessing import image\n",
    "import numpy as np\n",
    "from tensorflow.keras.applications.vgg16 import preprocess_input\n",
    "from tensorflow.keras.models import load_model"
   ]
  },
  {
   "cell_type": "code",
   "execution_count": null,
   "id": "32c1d467",
   "metadata": {},
   "outputs": [],
   "source": [
    "model = load_model('brain_tumor.h5')"
   ]
  },
  {
   "cell_type": "code",
   "execution_count": null,
   "id": "66d881e4",
   "metadata": {},
   "outputs": [],
   "source": [
    "img_path = 'C:/Users/ANANNYA/Downloads/Data/Training/no_tumor/image(10).jpg'"
   ]
  },
  {
   "cell_type": "code",
   "execution_count": null,
   "id": "b2b38dda",
   "metadata": {},
   "outputs": [],
   "source": [
    "img = image.load_img(img_path,target_size=(224,224))\n",
    "x= image.img_to_array(img)\n",
    "x = np.expand_dims(x,axis=0)\n",
    "img_data = preprocess_input(x)"
   ]
  },
  {
   "cell_type": "code",
   "execution_count": null,
   "id": "dbab70bb",
   "metadata": {},
   "outputs": [],
   "source": [
    "rslt = model.predict(img_data)\n",
    "print(rslt)"
   ]
  },
  {
   "cell_type": "code",
   "execution_count": null,
   "id": "acbc53c6",
   "metadata": {},
   "outputs": [],
   "source": [
    "rslt[0][0]"
   ]
  },
  {
   "cell_type": "code",
   "execution_count": null,
   "id": "29725b6c",
   "metadata": {},
   "outputs": [],
   "source": [
    "rslt[0][1]"
   ]
  },
  {
   "cell_type": "code",
   "execution_count": null,
   "id": "8aca1a45",
   "metadata": {},
   "outputs": [],
   "source": [
    "if rslt[0][0] == 1:\n",
    "    prediction = 'Not A Brain Tumor'\n",
    "else:\n",
    "    prediction = 'Brain Tumor'\n",
    "    \n",
    "print(prediction)"
   ]
  },
  {
   "cell_type": "code",
   "execution_count": null,
   "id": "b905f942",
   "metadata": {},
   "outputs": [],
   "source": []
  },
  {
   "cell_type": "code",
   "execution_count": null,
   "id": "bccf7b4b",
   "metadata": {},
   "outputs": [],
   "source": []
  }
 ],
 "metadata": {
  "kernelspec": {
   "display_name": "Python 3 (ipykernel)",
   "language": "python",
   "name": "python3"
  },
  "language_info": {
   "codemirror_mode": {
    "name": "ipython",
    "version": 3
   },
   "file_extension": ".py",
   "mimetype": "text/x-python",
   "name": "python",
   "nbconvert_exporter": "python",
   "pygments_lexer": "ipython3",
   "version": "3.9.12"
  }
 },
 "nbformat": 4,
 "nbformat_minor": 5
}
