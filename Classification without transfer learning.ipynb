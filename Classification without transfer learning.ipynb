{
 "cells": [
  {
   "cell_type": "code",
   "execution_count": 1,
   "id": "f0eea4f2",
   "metadata": {},
   "outputs": [],
   "source": [
    "import tensorflow as tf\n",
    "from tensorflow.keras import layers\n",
    "from tensorflow.keras import preprocessing\n",
    "from tensorflow.keras import models\n",
    "from tensorflow.keras.layers import Conv2D\n",
    "from tensorflow.keras.layers import Dense\n",
    "from tensorflow.keras.layers import Flatten\n",
    "from tensorflow.keras.preprocessing import image\n",
    "from tensorflow.keras.layers import MaxPooling2D\n",
    "from tensorflow.keras.models import Sequential\n",
    "import numpy as np"
   ]
  },
  {
   "cell_type": "code",
   "execution_count": 4,
   "id": "7de86126",
   "metadata": {},
   "outputs": [],
   "source": [
    "# Configure the CNN (Convolutional Neural Network).\n",
    "\n",
    "classifier = Sequential()\n",
    "\n",
    "# Convolution - extracting appropriate features from the input image.\n",
    "# Non-Linearity (RELU) - replacing all negative pixel values in feature map by zero.\n",
    "\n",
    "classifier.add(Conv2D(32, (3, 3), input_shape=(224, 224, 3),\n",
    "               activation='relu'))\n",
    "\n",
    "# Pooling: reduces dimensionality of the feature maps but keeps the most important information.\n",
    "\n",
    "classifier.add(MaxPooling2D(pool_size=(2, 2)))\n",
    "\n",
    "# Adding a second convolutional layer and flattening in order to arrange 3D volumes into a 1D vector.\n",
    "\n",
    "classifier.add(Conv2D(32, (3, 3), activation='relu'))\n",
    "classifier.add(MaxPooling2D(pool_size=(2, 2)))\n",
    "classifier.add(Flatten())\n",
    "\n",
    "# Fully connected layers: ensures connections to all activations in the previous layer.\n",
    "\n",
    "classifier.add(Dense(units=128, activation='relu'))\n",
    "classifier.add(Dense(units=2, activation='sigmoid'))"
   ]
  },
  {
   "cell_type": "code",
   "execution_count": 5,
   "id": "7149156c",
   "metadata": {},
   "outputs": [],
   "source": [
    "from tensorflow.keras.preprocessing.image import ImageDataGenerator"
   ]
  },
  {
   "cell_type": "code",
   "execution_count": 7,
   "id": "4c348e61",
   "metadata": {},
   "outputs": [
    {
     "name": "stdout",
     "output_type": "stream",
     "text": [
      "Found 3264 images belonging to 2 classes.\n"
     ]
    }
   ],
   "source": [
    "train_datagen=ImageDataGenerator(rescale=1. / 255, shear_range=0.2,\n",
    "        zoom_range=0.2, horizontal_flip=True)\n",
    "train_generator=train_datagen.flow_from_directory('C:/Users/ANANNYA/Desktop/Data/', # this is where you specify the path to the main data folder\n",
    "                                                 target_size=(224,224),\n",
    "                                                 color_mode='rgb',\n",
    "                                                 batch_size=32,\n",
    "                                                 class_mode='categorical',\n",
    "                                                 shuffle=True)"
   ]
  },
  {
   "cell_type": "code",
   "execution_count": 8,
   "id": "54b95711",
   "metadata": {},
   "outputs": [
    {
     "name": "stdout",
     "output_type": "stream",
     "text": [
      "3264\n",
      "32\n",
      "7\n"
     ]
    }
   ],
   "source": [
    "print(train_generator.n)\n",
    "print(train_generator.batch_size)\n",
    "print(253//32)"
   ]
  },
  {
   "cell_type": "code",
   "execution_count": 9,
   "id": "3c2b64d9",
   "metadata": {},
   "outputs": [],
   "source": [
    "classifier.compile(optimizer='Adam',\n",
    "              loss='binary_crossentropy',\n",
    "              metrics=['accuracy'])"
   ]
  },
  {
   "cell_type": "code",
   "execution_count": 10,
   "id": "4841acf9",
   "metadata": {},
   "outputs": [
    {
     "name": "stderr",
     "output_type": "stream",
     "text": [
      "C:\\Users\\ANANNYA\\AppData\\Local\\Temp\\ipykernel_12680\\2617235899.py:2: UserWarning: `Model.fit_generator` is deprecated and will be removed in a future version. Please use `Model.fit`, which supports generators.\n",
      "  r = classifier.fit_generator(generator=train_generator,\n"
     ]
    },
    {
     "name": "stdout",
     "output_type": "stream",
     "text": [
      "Epoch 1/20\n",
      "102/102 [==============================] - 96s 923ms/step - loss: 0.3991 - accuracy: 0.8750\n",
      "Epoch 2/20\n",
      "102/102 [==============================] - 77s 751ms/step - loss: 0.3026 - accuracy: 0.8701\n",
      "Epoch 3/20\n",
      "102/102 [==============================] - 80s 777ms/step - loss: 0.2858 - accuracy: 0.8775\n",
      "Epoch 4/20\n",
      "102/102 [==============================] - 76s 739ms/step - loss: 0.2677 - accuracy: 0.8787\n",
      "Epoch 5/20\n",
      "102/102 [==============================] - 73s 717ms/step - loss: 0.2628 - accuracy: 0.8756\n",
      "Epoch 6/20\n",
      "102/102 [==============================] - 74s 725ms/step - loss: 0.2667 - accuracy: 0.8830\n",
      "Epoch 7/20\n",
      "102/102 [==============================] - 73s 716ms/step - loss: 0.2569 - accuracy: 0.8836\n",
      "Epoch 8/20\n",
      "102/102 [==============================] - 73s 715ms/step - loss: 0.2464 - accuracy: 0.8860\n",
      "Epoch 9/20\n",
      "102/102 [==============================] - 73s 716ms/step - loss: 0.2501 - accuracy: 0.8848\n",
      "Epoch 10/20\n",
      "102/102 [==============================] - 73s 711ms/step - loss: 0.2443 - accuracy: 0.8882\n",
      "Epoch 11/20\n",
      "102/102 [==============================] - 74s 719ms/step - loss: 0.2393 - accuracy: 0.8903\n",
      "Epoch 12/20\n",
      "102/102 [==============================] - 73s 716ms/step - loss: 0.2341 - accuracy: 0.8906\n",
      "Epoch 13/20\n",
      "102/102 [==============================] - 73s 715ms/step - loss: 0.2322 - accuracy: 0.8925\n",
      "Epoch 14/20\n",
      "102/102 [==============================] - 74s 719ms/step - loss: 0.2360 - accuracy: 0.8919\n",
      "Epoch 15/20\n",
      "102/102 [==============================] - 74s 723ms/step - loss: 0.2298 - accuracy: 0.8925\n",
      "Epoch 16/20\n",
      "102/102 [==============================] - 73s 713ms/step - loss: 0.2266 - accuracy: 0.8922\n",
      "Epoch 17/20\n",
      "102/102 [==============================] - 73s 716ms/step - loss: 0.2254 - accuracy: 0.8915\n",
      "Epoch 18/20\n",
      "102/102 [==============================] - 73s 716ms/step - loss: 0.2170 - accuracy: 0.8983\n",
      "Epoch 19/20\n",
      "102/102 [==============================] - 73s 708ms/step - loss: 0.2199 - accuracy: 0.8937\n",
      "Epoch 20/20\n",
      "102/102 [==============================] - 76s 743ms/step - loss: 0.2135 - accuracy: 0.8968\n"
     ]
    }
   ],
   "source": [
    "step_size_train=train_generator.n//train_generator.batch_size\n",
    "r = classifier.fit_generator(generator=train_generator,\n",
    "                   steps_per_epoch=step_size_train,\n",
    "                   epochs=20)"
   ]
  },
  {
   "cell_type": "code",
   "execution_count": 11,
   "id": "8ed332a2",
   "metadata": {},
   "outputs": [
    {
     "name": "stdout",
     "output_type": "stream",
     "text": [
      "dict_keys(['loss', 'accuracy'])\n"
     ]
    },
    {
     "data": {
      "image/png": "[encoded data removed]",
      "text/plain": [
       "<Figure size 432x288 with 1 Axes>"
      ]
     },
     "metadata": {
      "needs_background": "light"
     },
     "output_type": "display_data"
    }
   ],
   "source": [
    "# Plot training and validation loss/accuracy\n",
    "import matplotlib.pyplot as plt\n",
    "print(r.history.keys())\n",
    "# Loss\n",
    "plt.plot(r.history['loss'])\n",
    "plt.title('model loss')\n",
    "plt.ylabel('loss')\n",
    "plt.xlabel('epoch')\n",
    "plt.show()"
   ]
  },
  {
   "cell_type": "code",
   "execution_count": 12,
   "id": "0c78b005",
   "metadata": {},
   "outputs": [
    {
     "data": {
      "image/png": "[encoded data removed]",
      "text/plain": [
       "<Figure size 432x288 with 1 Axes>"
      ]
     },
     "metadata": {
      "needs_background": "light"
     },
     "output_type": "display_data"
    }
   ],
   "source": [
    "plt.plot(r.history['accuracy'])\n",
    "plt.title('model accuracy')\n",
    "plt.ylabel('accuracy')\n",
    "plt.xlabel('epoch')\n",
    "plt.show()"
   ]
  },
  {
   "cell_type": "code",
   "execution_count": null,
   "id": "a215360d",
   "metadata": {},
   "outputs": [],
   "source": []
  }
 ],
 "metadata": {
  "kernelspec": {
   "display_name": "Python 3 (ipykernel)",
   "language": "python",
   "name": "python3"
  },
  "language_info": {
   "codemirror_mode": {
    "name": "ipython",
    "version": 3
   },
   "file_extension": ".py",
   "mimetype": "text/x-python",
   "name": "python",
   "nbconvert_exporter": "python",
   "pygments_lexer": "ipython3",
   "version": "3.9.12"
  }
 },
 "nbformat": 4,
 "nbformat_minor": 5
}
